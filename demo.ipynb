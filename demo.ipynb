{
 "cells": [
  {
   "cell_type": "code",
   "execution_count": null,
   "metadata": {},
   "outputs": [],
   "source": [
    "import numpy as np\n",
    "import matplotlib.pyplot as plt\n",
    "\n",
    "\n",
    "fig, (ax1, ax2) = plt.subplots(2, 1)\n",
    "fig.subplots_adjust(hspace=0.6)\n",
    "\n",
    "dt = 0.01\n",
    "t = np.arange(0, 30, dt)\n",
    "\n",
    "np.random.seed(19680801)\n",
    "\n",
    "nse1 = np.random.randn(len(t))                 \n",
    "nse2 = np.random.randn(len(t))                 \n",
    "r = np.exp(-t / 0.05)\n",
    "\n",
    "cnse1 = np.convolve(nse1, r, mode='same') * dt   \n",
    "cnse2 = np.convolve(nse2, r, mode='same') * dt   \n",
    "\n",
    "s1 = 0.01 * np.sin(2 * np.pi * 10 * t) + cnse1\n",
    "s2 = 0.01 * np.cos(2 * np.pi * 10 * t) + cnse2\n",
    "\n",
    "ax1.plot(t, s1, t, s2)\n",
    "ax1.set_xlim(0, 5)\n",
    "ax1.set_xlabel('time')\n",
    "ax1.set_ylabel('s1 and s2')\n",
    "ax1.grid(True)\n",
    "\n",
    "cxy, f = ax2.csd(s1, s2, 256, 1. / dt)\n",
    "ax2.set_ylabel('CSD (db)')\n",
    "plt.show()"
   ]
  }
 ],
 "metadata": {
  "language_info": {
   "name": "plaintext"
  },
  "orig_nbformat": 4
 },
 "nbformat": 4,
 "nbformat_minor": 2
}